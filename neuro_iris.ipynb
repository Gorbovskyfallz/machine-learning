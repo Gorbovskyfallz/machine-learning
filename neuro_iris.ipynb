{
 "cells": [
  {
   "cell_type": "code",
   "execution_count": 1,
   "metadata": {},
   "outputs": [
    {
     "name": "stdout",
     "output_type": "stream",
     "text": [
      "1 Physical GPUs, 1 Logical GPUs\n"
     ]
    }
   ],
   "source": [
    "import tensorflow as tf\n",
    "gpus = tf.config.experimental.list_physical_devices('GPU')\n",
    "if gpus:\n",
    "  try:\n",
    "    tf.config.experimental.set_virtual_device_configuration(\n",
    "        gpus[0],\n",
    "        [tf.config.experimental.VirtualDeviceConfiguration(memory_limit=1)])\n",
    "    logical_gpus = tf.config.experimental.list_logical_devices('GPU')\n",
    "    print(len(gpus), \"Physical GPUs,\", len(logical_gpus), \"Logical GPUs\")\n",
    "  except RuntimeError as e:\n",
    "    print(e)\n"
   ]
  },
  {
   "cell_type": "code",
   "execution_count": 2,
   "metadata": {},
   "outputs": [
    {
     "name": "stderr",
     "output_type": "stream",
     "text": [
      "Using TensorFlow backend.\n"
     ]
    }
   ],
   "source": [
    "import pandas as pd\n",
    "from sklearn.datasets import load_iris\n",
    "iris = load_iris(as_frame=True)\n",
    "iris = iris['frame']\n",
    "x = iris.drop('target', axis=1)\n",
    "y = iris.target\n",
    "from sklearn.preprocessing import StandardScaler\n",
    "scaler = StandardScaler()\n",
    "x = scaler.fit_transform(x)\n",
    "import pandas\n",
    "import tensorflow as tf\n",
    "\n",
    "model = tf.keras.Sequential()\n",
    "model.add(tf.keras.Input(shape=(4,)))\n",
    "model.add(tf.keras.layers.Dense(1000, activation= 'relu'))\n",
    "model.add(tf.keras.layers.Dense(3, activation= 'sigmoid'))\n",
    "from keras.optimizers import Adam\n",
    "from keras.losses import CategoricalCrossentropy\n",
    "opt = Adam()\n",
    "loss = CategoricalCrossentropy()\n",
    "model.compile(optimizer='adam',loss=loss,metrics=['accuracy'])\n",
    "y=y.to_numpy()\n",
    "from sklearn.preprocessing import OneHotEncoder\n",
    "enc = OneHotEncoder(sparse=False)\n",
    "y=enc.fit_transform(y.reshape(-1,1))\n",
    "from sklearn.model_selection import train_test_split\n",
    "x_train, x_test, y_train, y_test = train_test_split(x, y, test_size=0.2)"
   ]
  },
  {
   "cell_type": "code",
   "execution_count": 3,
   "metadata": {},
   "outputs": [
    {
     "name": "stdout",
     "output_type": "stream",
     "text": [
      "Train on 120 samples\n",
      "Epoch 1/30\n",
      "120/120 [==============================] - 0s 4ms/sample - loss: 0.7704 - accuracy: 0.7833\n",
      "Epoch 2/30\n",
      "120/120 [==============================] - 0s 433us/sample - loss: 0.4189 - accuracy: 0.8667\n",
      "Epoch 3/30\n",
      "120/120 [==============================] - 0s 427us/sample - loss: 0.3123 - accuracy: 0.8750\n",
      "Epoch 4/30\n",
      "120/120 [==============================] - 0s 425us/sample - loss: 0.2471 - accuracy: 0.8833\n",
      "Epoch 5/30\n",
      "120/120 [==============================] - 0s 475us/sample - loss: 0.1944 - accuracy: 0.9167\n",
      "Epoch 6/30\n",
      "120/120 [==============================] - 0s 425us/sample - loss: 0.1459 - accuracy: 0.9667\n",
      "Epoch 7/30\n",
      "120/120 [==============================] - 0s 425us/sample - loss: 0.1101 - accuracy: 0.9667\n",
      "Epoch 8/30\n",
      "120/120 [==============================] - 0s 433us/sample - loss: 0.0982 - accuracy: 0.9667\n",
      "Epoch 9/30\n",
      "120/120 [==============================] - 0s 433us/sample - loss: 0.0741 - accuracy: 0.9667\n",
      "Epoch 10/30\n",
      "120/120 [==============================] - 0s 433us/sample - loss: 0.0634 - accuracy: 0.9750\n",
      "Epoch 11/30\n",
      "120/120 [==============================] - 0s 500us/sample - loss: 0.0486 - accuracy: 0.9833\n",
      "Epoch 12/30\n",
      "120/120 [==============================] - 0s 450us/sample - loss: 0.0425 - accuracy: 0.9917\n",
      "Epoch 13/30\n",
      "120/120 [==============================] - 0s 433us/sample - loss: 0.0374 - accuracy: 1.0000\n",
      "Epoch 14/30\n",
      "120/120 [==============================] - 0s 441us/sample - loss: 0.0351 - accuracy: 1.0000\n",
      "Epoch 15/30\n",
      "120/120 [==============================] - 0s 433us/sample - loss: 0.0300 - accuracy: 1.0000\n",
      "Epoch 16/30\n",
      "120/120 [==============================] - 0s 425us/sample - loss: 0.0286 - accuracy: 1.0000\n",
      "Epoch 17/30\n",
      "120/120 [==============================] - 0s 425us/sample - loss: 0.0299 - accuracy: 1.0000\n",
      "Epoch 18/30\n",
      "120/120 [==============================] - 0s 425us/sample - loss: 0.0232 - accuracy: 1.0000\n",
      "Epoch 19/30\n",
      "120/120 [==============================] - 0s 433us/sample - loss: 0.0234 - accuracy: 1.0000\n",
      "Epoch 20/30\n",
      "120/120 [==============================] - 0s 433us/sample - loss: 0.0212 - accuracy: 1.0000\n",
      "Epoch 21/30\n",
      "120/120 [==============================] - 0s 450us/sample - loss: 0.0193 - accuracy: 1.0000\n",
      "Epoch 22/30\n",
      "120/120 [==============================] - 0s 450us/sample - loss: 0.0198 - accuracy: 1.0000\n",
      "Epoch 23/30\n",
      "120/120 [==============================] - 0s 425us/sample - loss: 0.0174 - accuracy: 1.0000\n",
      "Epoch 24/30\n",
      "120/120 [==============================] - 0s 442us/sample - loss: 0.0174 - accuracy: 1.0000\n",
      "Epoch 25/30\n",
      "120/120 [==============================] - 0s 433us/sample - loss: 0.0164 - accuracy: 1.0000\n",
      "Epoch 26/30\n",
      "120/120 [==============================] - 0s 425us/sample - loss: 0.0148 - accuracy: 1.0000\n",
      "Epoch 27/30\n",
      "120/120 [==============================] - 0s 433us/sample - loss: 0.0142 - accuracy: 1.0000\n",
      "Epoch 28/30\n",
      "120/120 [==============================] - 0s 433us/sample - loss: 0.0136 - accuracy: 1.0000\n",
      "Epoch 29/30\n",
      "120/120 [==============================] - 0s 433us/sample - loss: 0.0124 - accuracy: 1.0000\n",
      "Epoch 30/30\n",
      "120/120 [==============================] - 0s 483us/sample - loss: 0.0124 - accuracy: 1.0000\n"
     ]
    },
    {
     "data": {
      "text/plain": [
       "<tensorflow.python.keras.callbacks.History at 0x1dcf1c9d358>"
      ]
     },
     "execution_count": 3,
     "metadata": {},
     "output_type": "execute_result"
    }
   ],
   "source": [
    "model.fit(x_train, y_train, batch_size=4, epochs=30)"
   ]
  },
  {
   "cell_type": "code",
   "execution_count": 4,
   "metadata": {},
   "outputs": [
    {
     "name": "stdout",
     "output_type": "stream",
     "text": [
      "\r",
      "30/30 [==============================] - 0s 3ms/sample - loss: 0.3520 - accuracy: 0.8667\n"
     ]
    },
    {
     "data": {
      "text/plain": [
       "[0.35197049379348755, 0.8666667]"
      ]
     },
     "execution_count": 4,
     "metadata": {},
     "output_type": "execute_result"
    }
   ],
   "source": [
    "model.evaluate(x_test, y_test)"
   ]
  }
 ],
 "metadata": {
  "kernelspec": {
   "display_name": "Python 3",
   "language": "python",
   "name": "python3"
  },
  "language_info": {
   "codemirror_mode": {
    "name": "ipython",
    "version": 3
   },
   "file_extension": ".py",
   "mimetype": "text/x-python",
   "name": "python",
   "nbconvert_exporter": "python",
   "pygments_lexer": "ipython3",
   "version": "3.7.0"
  }
 },
 "nbformat": 4,
 "nbformat_minor": 4
}
